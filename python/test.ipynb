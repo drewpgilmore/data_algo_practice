{
 "cells": [
  {
   "cell_type": "markdown",
   "metadata": {},
   "source": [
    "### Linked List"
   ]
  },
  {
   "cell_type": "code",
   "execution_count": 1,
   "metadata": {},
   "outputs": [
    {
     "data": {
      "text/plain": [
       "1 -> 2 -> 3 -> End"
      ]
     },
     "execution_count": 1,
     "metadata": {},
     "output_type": "execute_result"
    }
   ],
   "source": [
    "from dataTypes.linkedList import LinkedList, Node\n",
    "\n",
    "# Implement\n",
    "\n",
    "llist = LinkedList()\n",
    "\n",
    "first = Node('1')\n",
    "second = Node('2')\n",
    "third = Node('3')\n",
    "\n",
    "llist.head = first\n",
    "first.next = second\n",
    "second.next = third\n",
    "\n",
    "llist"
   ]
  },
  {
   "cell_type": "code",
   "execution_count": 20,
   "metadata": {},
   "outputs": [
    {
     "data": {
      "text/plain": [
       "4 -> 1 -> 2 -> 4 -> End"
      ]
     },
     "execution_count": 20,
     "metadata": {},
     "output_type": "execute_result"
    }
   ],
   "source": [
    "# Insert at beginning\n",
    "\n",
    "fourth = Node('4')\n",
    "llist.insertFirst(fourth)\n",
    "\n",
    "llist"
   ]
  },
  {
   "cell_type": "code",
   "execution_count": 22,
   "metadata": {},
   "outputs": [
    {
     "data": {
      "text/plain": [
       "1 -> 2 -> 3 -> 5 -> End"
      ]
     },
     "execution_count": 22,
     "metadata": {},
     "output_type": "execute_result"
    }
   ],
   "source": [
    "# Insert at end\n",
    "fifth = Node('5')\n",
    "llist.insertLast(fifth)\n",
    "\n",
    "llist"
   ]
  },
  {
   "cell_type": "code",
   "execution_count": 19,
   "metadata": {},
   "outputs": [
    {
     "data": {
      "text/plain": [
       "1 -> 2 -> 6 -> 3 -> End"
      ]
     },
     "execution_count": 19,
     "metadata": {},
     "output_type": "execute_result"
    }
   ],
   "source": [
    "# Insert after\n",
    "sixth = Node('6')\n",
    "llist.insertAfter(second, sixth)\n",
    "\n",
    "llist"
   ]
  },
  {
   "cell_type": "code",
   "execution_count": 51,
   "metadata": {},
   "outputs": [
    {
     "ename": "AttributeError",
     "evalue": "'NoneType' object has no attribute 'data'",
     "output_type": "error",
     "traceback": [
      "\u001b[0;31m---------------------------------------------------------------------------\u001b[0m",
      "\u001b[0;31mAttributeError\u001b[0m                            Traceback (most recent call last)",
      "\u001b[1;32m/Users/gilmore/Desktop/data_algo_practice/linkedList.ipynb Cell 6\u001b[0m in \u001b[0;36m<cell line: 3>\u001b[0;34m()\u001b[0m\n\u001b[1;32m      <a href='vscode-notebook-cell:/Users/gilmore/Desktop/data_algo_practice/linkedList.ipynb#W5sZmlsZQ%3D%3D?line=0'>1</a>\u001b[0m \u001b[39m# Delete node\u001b[39;00m\n\u001b[0;32m----> <a href='vscode-notebook-cell:/Users/gilmore/Desktop/data_algo_practice/linkedList.ipynb#W5sZmlsZQ%3D%3D?line=2'>3</a>\u001b[0m llist\u001b[39m.\u001b[39;49mdeleteNode(first)\n\u001b[1;32m      <a href='vscode-notebook-cell:/Users/gilmore/Desktop/data_algo_practice/linkedList.ipynb#W5sZmlsZQ%3D%3D?line=4'>5</a>\u001b[0m llist\n",
      "\u001b[1;32m/Users/gilmore/Desktop/data_algo_practice/linkedList.ipynb Cell 6\u001b[0m in \u001b[0;36mLinkedList.deleteNode\u001b[0;34m(self, node)\u001b[0m\n\u001b[1;32m     <a href='vscode-notebook-cell:/Users/gilmore/Desktop/data_algo_practice/linkedList.ipynb#W5sZmlsZQ%3D%3D?line=78'>79</a>\u001b[0m     \u001b[39mreturn\u001b[39;00m \u001b[39m'\u001b[39m\u001b[39mNode not in list\u001b[39m\u001b[39m'\u001b[39m\n\u001b[1;32m     <a href='vscode-notebook-cell:/Users/gilmore/Desktop/data_algo_practice/linkedList.ipynb#W5sZmlsZQ%3D%3D?line=80'>81</a>\u001b[0m n \u001b[39m=\u001b[39m \u001b[39mself\u001b[39m\u001b[39m.\u001b[39mhead \n\u001b[0;32m---> <a href='vscode-notebook-cell:/Users/gilmore/Desktop/data_algo_practice/linkedList.ipynb#W5sZmlsZQ%3D%3D?line=81'>82</a>\u001b[0m \u001b[39mwhile\u001b[39;00m n\u001b[39m.\u001b[39;49mnext\u001b[39m.\u001b[39;49mdata \u001b[39m!=\u001b[39m node\u001b[39m.\u001b[39mdata:\n\u001b[1;32m     <a href='vscode-notebook-cell:/Users/gilmore/Desktop/data_algo_practice/linkedList.ipynb#W5sZmlsZQ%3D%3D?line=82'>83</a>\u001b[0m     n \u001b[39m=\u001b[39m n\u001b[39m.\u001b[39mnext\n\u001b[1;32m     <a href='vscode-notebook-cell:/Users/gilmore/Desktop/data_algo_practice/linkedList.ipynb#W5sZmlsZQ%3D%3D?line=84'>85</a>\u001b[0m n\u001b[39m.\u001b[39mnext \u001b[39m=\u001b[39m n\u001b[39m.\u001b[39mnext\u001b[39m.\u001b[39mnext\n",
      "\u001b[0;31mAttributeError\u001b[0m: 'NoneType' object has no attribute 'data'"
     ]
    }
   ],
   "source": [
    "# Delete node\n",
    "\n",
    "llist.deleteNode(first)\n",
    "\n",
    "llist"
   ]
  },
  {
   "cell_type": "code",
   "execution_count": 2,
   "metadata": {},
   "outputs": [],
   "source": [
    "# Compare linked lists to find unions & differences"
   ]
  },
  {
   "cell_type": "code",
   "execution_count": 3,
   "metadata": {},
   "outputs": [],
   "source": [
    "# Reverse"
   ]
  },
  {
   "cell_type": "code",
   "execution_count": 4,
   "metadata": {},
   "outputs": [],
   "source": [
    "# Traverse, determine if circular"
   ]
  },
  {
   "cell_type": "code",
   "execution_count": 5,
   "metadata": {},
   "outputs": [],
   "source": [
    "# Sort"
   ]
  },
  {
   "cell_type": "code",
   "execution_count": null,
   "metadata": {},
   "outputs": [],
   "source": []
  }
 ],
 "metadata": {
  "kernelspec": {
   "display_name": "Python 3.10.6 64-bit",
   "language": "python",
   "name": "python3"
  },
  "language_info": {
   "codemirror_mode": {
    "name": "ipython",
    "version": 3
   },
   "file_extension": ".py",
   "mimetype": "text/x-python",
   "name": "python",
   "nbconvert_exporter": "python",
   "pygments_lexer": "ipython3",
   "version": "3.10.6"
  },
  "orig_nbformat": 4,
  "vscode": {
   "interpreter": {
    "hash": "aee8b7b246df8f9039afb4144a1f6fd8d2ca17a180786b69acc140d282b71a49"
   }
  }
 },
 "nbformat": 4,
 "nbformat_minor": 2
}
