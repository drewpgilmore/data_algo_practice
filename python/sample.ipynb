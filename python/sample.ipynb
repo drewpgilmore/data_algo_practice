{
 "cells": [
  {
   "cell_type": "markdown",
   "metadata": {},
   "source": [
    "### Linked List"
   ]
  },
  {
   "cell_type": "code",
   "execution_count": 1,
   "metadata": {},
   "outputs": [
    {
     "name": "stdout",
     "output_type": "stream",
     "text": [
      "\n",
      "Original List...................: 6 -> 3 -> 2 -> 10 -> 9 -> End\n",
      "Insert Node('5') at End.........: 6 -> 3 -> 2 -> 10 -> 9 -> 5 -> End\n",
      "Insert Node('0') at Beginning...: 0 -> 6 -> 3 -> 2 -> 10 -> 9 -> 5 -> End\n",
      "Insert Node('7') after Node('2'): 0 -> 6 -> 3 -> 2 -> 7 -> 10 -> 9 -> 5 -> End\n",
      "Delete Node('7')................: 0 -> 6 -> 3 -> 2 -> 10 -> 9 -> 5 -> End\n",
      "Reverse List....................: 5 -> 9 -> 10 -> 2 -> 3 -> 6 -> 0 -> End\n",
      "Sort List Ascending.............: 0 -> 2 -> 3 -> 5 -> 6 -> 9 -> 10 -> End\n",
      "Sort List Descending............: 10 -> 9 -> 6 -> 5 -> 3 -> 2 -> 0 -> End\n",
      "Compare 2 Linked Lists..........: Nodes in Common: [9, 5]\n",
      "\n"
     ]
    }
   ],
   "source": [
    "from dataTypes.linkedList import LinkedList, Node, compare\n",
    "\n",
    "# Implement\n",
    "llist = LinkedList()\n",
    "llist.head = Node('6')\n",
    "llist.insertLast(Node('3'))\n",
    "llist.insertLast(Node('2'))\n",
    "llist.insertLast(Node('10'))\n",
    "llist.insertLast(Node('9'))\n",
    "\n",
    "llist2 = LinkedList()\n",
    "llist2.head = Node('5')\n",
    "llist2.insertLast(Node('4'))\n",
    "llist2.insertLast(Node('18'))\n",
    "llist2.insertLast(Node('9'))\n",
    "llist2.insertLast(Node('7'))\n",
    "\n",
    "print(f'''\n",
    "Original List...................: {llist}\n",
    "Insert Node('5') at End.........: {llist.insertLast(Node('5'))}\n",
    "Insert Node('0') at Beginning...: {llist.insertFirst(Node('0'))}\n",
    "Insert Node('7') after Node('2'): {llist.insertAfter(Node('2'), Node('7'))}\n",
    "Delete Node('7')................: {llist.deleteNode(Node('7'))}\n",
    "Reverse List....................: {llist.reverse()}\n",
    "Sort List Ascending.............: {llist.sort()}\n",
    "Sort List Descending............: {llist.sort(method='descending')}\n",
    "Compare 2 Linked Lists..........: {compare(llist, llist2)}\n",
    "''')"
   ]
  }
 ],
 "metadata": {
  "kernelspec": {
   "display_name": "Python 3.10.6 64-bit",
   "language": "python",
   "name": "python3"
  },
  "language_info": {
   "codemirror_mode": {
    "name": "ipython",
    "version": 3
   },
   "file_extension": ".py",
   "mimetype": "text/x-python",
   "name": "python",
   "nbconvert_exporter": "python",
   "pygments_lexer": "ipython3",
   "version": "3.10.6"
  },
  "orig_nbformat": 4,
  "vscode": {
   "interpreter": {
    "hash": "aee8b7b246df8f9039afb4144a1f6fd8d2ca17a180786b69acc140d282b71a49"
   }
  }
 },
 "nbformat": 4,
 "nbformat_minor": 2
}
